{
 "cells": [
  {
   "cell_type": "markdown",
   "id": "119826b3",
   "metadata": {},
   "source": [
    "# Actev'21 Visualization"
   ]
  },
  {
   "cell_type": "code",
   "execution_count": 1,
   "id": "b4a00458",
   "metadata": {},
   "outputs": [],
   "source": [
    "import vipy"
   ]
  },
  {
   "cell_type": "code",
   "execution_count": 11,
   "id": "da5079f4",
   "metadata": {},
   "outputs": [],
   "source": [
    "videodir = '/path/to/dir/containing/MEVA/videos'\n",
    "jsonfile = '/path/to/actev_output.json'"
   ]
  },
  {
   "cell_type": "code",
   "execution_count": 19,
   "id": "78f7ecac",
   "metadata": {},
   "outputs": [
    {
     "name": "stdout",
     "output_type": "stream",
     "text": [
      "[<vipy.video.scene: filename=\"2018-03-13.20-05-01.20-10-01.school.G328.avi\", fps=30.0, tracks=206, activities=206>, <vipy.video.scene: filename=\"2018-03-14.07-30-04.07-35-04.school.G336.avi\", fps=30.0, tracks=12, activities=12>, <vipy.video.scene: filename=\"2018-03-15.15-55-01.16-00-01.admin.G326.avi\", fps=30.0, tracks=26, activities=26>, <vipy.video.scene: filename=\"VIRAT_S_000206_02_000294_000327.mp4\", fps=30.0, tracks=258, activities=258>, <vipy.video.scene: filename=\"VIRAT_S_040003_02_000197_000552.mp4\", fps=30.0, tracks=2978, activities=2978>, <vipy.video.scene: filename=\"VIRAT_S_040100_03_000496_000559.mp4\", fps=30.0, tracks=378, activities=378>]\n"
     ]
    }
   ],
   "source": [
    "# Parse JSON into vipy video objects, with one tracklet per activity\n",
    "videos = [vipy.video.Scene(filename=k, \n",
    "                           tracks=[vipy.object.Track(trackid=str(a['activityID']), attributes={'objectID':o['objectID']}, filterbox=True, category=o['objectType'], keyframes=[int(kf) for (kf,bb) in o['localization'][k].items()], boxes=[vipy.object.Detection(category=o['objectType'], xmin=bb['boundingBox']['x'], ymin=bb['boundingBox']['y'], width=bb['boundingBox']['w'], height=bb['boundingBox']['h']) for bb in list([kb if 'boundingBox' in kb else list(o['localization'][k].values())[-2] for kb in o['localization'][k].values()])]) for a in A for o in a['objects']],\n",
    "                           activities=[vipy.activity.Activity(category=a['activity'], confidence=a['presenceConf'], attributes={'activityID':a['activityID']}, startframe=int(list(a['localization'][k].keys())[0]), endframe=int(list(a['localization'][k].keys())[1]), tracks=[str(a['activityID'])]) for a in A])\n",
    "          for (k,A) in vipy.util.groupbyasdict(vipy.util.readjson(jsonfile)['activities'], lambda x: next(iter(x['localization'].keys()))).items()]\n",
    "\n",
    "print(videos)"
   ]
  },
  {
   "cell_type": "code",
   "execution_count": 21,
   "id": "1002e109",
   "metadata": {},
   "outputs": [],
   "source": [
    "# Set the absolute path to the video file\n",
    "d_filename_to_path = {vipy.util.filetail(f):f for f in vipy.util.findvideo(videodir)}\n",
    "videos = [v.filename(d_filename_to_path[vipy.util.filetail(v.filename())]) for v in videos]"
   ]
  },
  {
   "cell_type": "code",
   "execution_count": 23,
   "id": "b60033cf",
   "metadata": {},
   "outputs": [],
   "source": [
    "import vipy.data.meva\n",
    "\n",
    "# (optional) Assign a \"shortlabel\" to each activity so that it is visualized as \"Noun Verb\"\n",
    "videos = [v.activitymap(lambda a: a.shortlabel(vipy.data.meva.d_category_to_shortlabel[a.category()])) for v in videos]                        "
   ]
  },
  {
   "cell_type": "code",
   "execution_count": null,
   "id": "32ef2e12",
   "metadata": {},
   "outputs": [],
   "source": [
    "# Generate annotation videos so that minimum dimension is 512px, with only confident activities \n",
    "annotations = [(v.clone().mindim(512)               \n",
    "                 .activityfilter(lambda a: a.confidence() > 0.5)                  \n",
    "                 .annotate(outfile='%s_annotation.mp4' % v.videoid())) for v in videos]"
   ]
  },
  {
   "cell_type": "code",
   "execution_count": null,
   "id": "7ab05dc4",
   "metadata": {},
   "outputs": [],
   "source": [
    "# Generate annotation videos so that minimum dimension is 256px, showing only tracks and a timestamp\n",
    "mutator = vipy.image.mutator_show_noun_only()\n",
    "annotations = [(v.clone().mindim(256)\n",
    "                 .activityfilter(lambda a: a.confidence() > 0.5)\n",
    "                 .annotate(timestamp=True, mutator=mutator, boxalpha=0.0, outfile='%s_trackonly.mp4' % v.videoid())) \n",
    "               for v in videos]"
   ]
  },
  {
   "cell_type": "code",
   "execution_count": null,
   "id": "f89c183e",
   "metadata": {},
   "outputs": [],
   "source": [
    "# You may use different mutators to show different properties of the video during annotation\n",
    "#   - https://visym.github.io/vipy/vipy/image.html#vipy.image.mutator_show_trackindex_verbonly\n",
    "mutator = vipy.image.mutator_show_trackindex_verbonly()"
   ]
  },
  {
   "cell_type": "code",
   "execution_count": null,
   "id": "af90e493",
   "metadata": {},
   "outputs": [],
   "source": [
    "import vipy.batch\n",
    "\n",
    "# Parallel high resolution video annotation with 8 parallel processes\n",
    "with vipy.globals.parallel(8):\n",
    "    vipy.batch.Batch(videos).map(lambda v: (v.activityfilter(lambda a: a.confidence()>0.1)\n",
    "                                             .annotate(outfile='%s_annotation.mp4' % v.videoid())))"
   ]
  }
 ],
 "metadata": {
  "kernelspec": {
   "display_name": "Python 3",
   "language": "python",
   "name": "python3"
  },
  "language_info": {
   "codemirror_mode": {
    "name": "ipython",
    "version": 3
   },
   "file_extension": ".py",
   "mimetype": "text/x-python",
   "name": "python",
   "nbconvert_exporter": "python",
   "pygments_lexer": "ipython3",
   "version": "3.8.2"
  }
 },
 "nbformat": 4,
 "nbformat_minor": 5
}
